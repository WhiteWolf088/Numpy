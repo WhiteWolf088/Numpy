{
  "nbformat": 4,
  "nbformat_minor": 0,
  "metadata": {
    "colab": {
      "name": "Basics of Numpy.ipynb",
      "provenance": [],
      "collapsed_sections": [],
      "authorship_tag": "ABX9TyNcBsoVaskOSSzGUwEQmi4h",
      "include_colab_link": true
    },
    "kernelspec": {
      "name": "python3",
      "display_name": "Python 3"
    },
    "language_info": {
      "name": "python"
    }
  },
  "cells": [
    {
      "cell_type": "markdown",
      "metadata": {
        "id": "view-in-github",
        "colab_type": "text"
      },
      "source": [
        "<a href=\"https://colab.research.google.com/github/WhiteWolf088/Numpy/blob/main/Basics_of_Numpy.ipynb\" target=\"_parent\"><img src=\"https://colab.research.google.com/assets/colab-badge.svg\" alt=\"Open In Colab\"/></a>"
      ]
    },
    {
      "cell_type": "markdown",
      "metadata": {
        "id": "n-DRMiBIeDW9"
      },
      "source": [
        "# Numpy"
      ]
    },
    {
      "cell_type": "markdown",
      "metadata": {
        "id": "j_iTrf5yIeCv"
      },
      "source": [
        "## Single Dimensional Array"
      ]
    },
    {
      "cell_type": "code",
      "metadata": {
        "id": "cOUVdeqXE5yn"
      },
      "source": [
        "# Importing numpy Library\n",
        "import numpy as np"
      ],
      "execution_count": 1,
      "outputs": []
    },
    {
      "cell_type": "code",
      "metadata": {
        "colab": {
          "base_uri": "https://localhost:8080/"
        },
        "id": "-bTbein2FKiz",
        "outputId": "67402ed6-89b4-4273-efbd-3a4966779391"
      },
      "source": [
        "A=np.array([1,4,5,3,2])   #Single Dimensional Array\n",
        "A"
      ],
      "execution_count": 2,
      "outputs": [
        {
          "output_type": "execute_result",
          "data": {
            "text/plain": [
              "array([1, 4, 5, 3, 2])"
            ]
          },
          "metadata": {},
          "execution_count": 2
        }
      ]
    },
    {
      "cell_type": "code",
      "metadata": {
        "colab": {
          "base_uri": "https://localhost:8080/"
        },
        "id": "Zhdm2rOYFwq8",
        "outputId": "d7a7457f-bb5b-4806-b580-fa050aa842fc"
      },
      "source": [
        "A.shape"
      ],
      "execution_count": 3,
      "outputs": [
        {
          "output_type": "execute_result",
          "data": {
            "text/plain": [
              "(5,)"
            ]
          },
          "metadata": {},
          "execution_count": 3
        }
      ]
    },
    {
      "cell_type": "code",
      "metadata": {
        "colab": {
          "base_uri": "https://localhost:8080/"
        },
        "id": "-Y2JCCbqF0mV",
        "outputId": "9c6073bc-8fe7-4816-fdc4-657e221dbeca"
      },
      "source": [
        "A.size"
      ],
      "execution_count": 4,
      "outputs": [
        {
          "output_type": "execute_result",
          "data": {
            "text/plain": [
              "5"
            ]
          },
          "metadata": {},
          "execution_count": 4
        }
      ]
    },
    {
      "cell_type": "code",
      "metadata": {
        "colab": {
          "base_uri": "https://localhost:8080/"
        },
        "id": "9lVdi4jfF0gs",
        "outputId": "6b459ee2-14a4-4046-e3dc-3f5e87eee37f"
      },
      "source": [
        "A.ndim # Number of Dimensions"
      ],
      "execution_count": 5,
      "outputs": [
        {
          "output_type": "execute_result",
          "data": {
            "text/plain": [
              "1"
            ]
          },
          "metadata": {},
          "execution_count": 5
        }
      ]
    },
    {
      "cell_type": "code",
      "metadata": {
        "colab": {
          "base_uri": "https://localhost:8080/"
        },
        "id": "chs1UQcxFzrZ",
        "outputId": "dde79302-3d1b-469f-e1a2-12369ad88448"
      },
      "source": [
        "type(A)"
      ],
      "execution_count": 6,
      "outputs": [
        {
          "output_type": "execute_result",
          "data": {
            "text/plain": [
              "numpy.ndarray"
            ]
          },
          "metadata": {},
          "execution_count": 6
        }
      ]
    },
    {
      "cell_type": "code",
      "metadata": {
        "colab": {
          "base_uri": "https://localhost:8080/"
        },
        "id": "ZOy1f0DCFzc_",
        "outputId": "e034a48a-dc99-4a55-b96c-d0655808f12b"
      },
      "source": [
        "A.dtype"
      ],
      "execution_count": 7,
      "outputs": [
        {
          "output_type": "execute_result",
          "data": {
            "text/plain": [
              "dtype('int64')"
            ]
          },
          "metadata": {},
          "execution_count": 7
        }
      ]
    },
    {
      "cell_type": "code",
      "metadata": {
        "colab": {
          "base_uri": "https://localhost:8080/"
        },
        "id": "78cyHpBSFzL3",
        "outputId": "e0725aab-8aa1-4583-e5ed-82158f35ba24"
      },
      "source": [
        "np.sort(A) # Faster to give the Output"
      ],
      "execution_count": 8,
      "outputs": [
        {
          "output_type": "execute_result",
          "data": {
            "text/plain": [
              "array([1, 2, 3, 4, 5])"
            ]
          },
          "metadata": {},
          "execution_count": 8
        }
      ]
    },
    {
      "cell_type": "code",
      "metadata": {
        "colab": {
          "base_uri": "https://localhost:8080/"
        },
        "id": "RvttG6KSGhKC",
        "outputId": "528f274b-f3f2-493f-9381-bdea0a03500e"
      },
      "source": [
        "A.sort()\n",
        "A"
      ],
      "execution_count": 9,
      "outputs": [
        {
          "output_type": "execute_result",
          "data": {
            "text/plain": [
              "array([1, 2, 3, 4, 5])"
            ]
          },
          "metadata": {},
          "execution_count": 9
        }
      ]
    },
    {
      "cell_type": "code",
      "metadata": {
        "colab": {
          "base_uri": "https://localhost:8080/"
        },
        "id": "zOJFKa3sHCRn",
        "outputId": "9cc288a8-83c9-445d-943b-b3aafca20691"
      },
      "source": [
        "np.min(A)"
      ],
      "execution_count": 10,
      "outputs": [
        {
          "output_type": "execute_result",
          "data": {
            "text/plain": [
              "1"
            ]
          },
          "metadata": {},
          "execution_count": 10
        }
      ]
    },
    {
      "cell_type": "code",
      "metadata": {
        "colab": {
          "base_uri": "https://localhost:8080/"
        },
        "id": "dGSaUtrdHCMz",
        "outputId": "b55f3631-5c18-4b5b-aa6f-aff1368ee85e"
      },
      "source": [
        "np.max(A)"
      ],
      "execution_count": 11,
      "outputs": [
        {
          "output_type": "execute_result",
          "data": {
            "text/plain": [
              "5"
            ]
          },
          "metadata": {},
          "execution_count": 11
        }
      ]
    },
    {
      "cell_type": "code",
      "metadata": {
        "colab": {
          "base_uri": "https://localhost:8080/"
        },
        "id": "0uYBgXa0HCGO",
        "outputId": "2c99ca90-7400-49d2-cb91-9788773f4de5"
      },
      "source": [
        "np.sum(A)"
      ],
      "execution_count": 12,
      "outputs": [
        {
          "output_type": "execute_result",
          "data": {
            "text/plain": [
              "15"
            ]
          },
          "metadata": {},
          "execution_count": 12
        }
      ]
    },
    {
      "cell_type": "code",
      "metadata": {
        "colab": {
          "base_uri": "https://localhost:8080/"
        },
        "id": "-ZRJDJDcHCAk",
        "outputId": "96dad7e5-8f45-41fd-92ff-0cc3fc9e0ce2"
      },
      "source": [
        "np.mean(A)"
      ],
      "execution_count": 13,
      "outputs": [
        {
          "output_type": "execute_result",
          "data": {
            "text/plain": [
              "3.0"
            ]
          },
          "metadata": {},
          "execution_count": 13
        }
      ]
    },
    {
      "cell_type": "code",
      "metadata": {
        "colab": {
          "base_uri": "https://localhost:8080/"
        },
        "id": "y7anEvVKHB55",
        "outputId": "6c78ead7-db91-4b35-c920-8578112968e0"
      },
      "source": [
        "np.median(A)"
      ],
      "execution_count": 14,
      "outputs": [
        {
          "output_type": "execute_result",
          "data": {
            "text/plain": [
              "3.0"
            ]
          },
          "metadata": {},
          "execution_count": 14
        }
      ]
    },
    {
      "cell_type": "code",
      "metadata": {
        "colab": {
          "base_uri": "https://localhost:8080/"
        },
        "id": "BkeQMrxDHXA-",
        "outputId": "76ca59aa-72ec-40bb-a8de-1cca6a084bb3"
      },
      "source": [
        "np.sin(A)"
      ],
      "execution_count": 15,
      "outputs": [
        {
          "output_type": "execute_result",
          "data": {
            "text/plain": [
              "array([ 0.84147098,  0.90929743,  0.14112001, -0.7568025 , -0.95892427])"
            ]
          },
          "metadata": {},
          "execution_count": 15
        }
      ]
    },
    {
      "cell_type": "code",
      "metadata": {
        "colab": {
          "base_uri": "https://localhost:8080/"
        },
        "id": "kuGwx2HMHbNs",
        "outputId": "9003ab92-b65c-4a54-87db-441b3718b642"
      },
      "source": [
        "np.cos(A)"
      ],
      "execution_count": 16,
      "outputs": [
        {
          "output_type": "execute_result",
          "data": {
            "text/plain": [
              "array([ 0.54030231, -0.41614684, -0.9899925 , -0.65364362,  0.28366219])"
            ]
          },
          "metadata": {},
          "execution_count": 16
        }
      ]
    },
    {
      "cell_type": "code",
      "metadata": {
        "colab": {
          "base_uri": "https://localhost:8080/"
        },
        "id": "qu1Bc-L1Ha7y",
        "outputId": "5b25495b-06b5-403d-bdb1-64c955854714"
      },
      "source": [
        "np.tan(A)"
      ],
      "execution_count": 17,
      "outputs": [
        {
          "output_type": "execute_result",
          "data": {
            "text/plain": [
              "array([ 1.55740772, -2.18503986, -0.14254654,  1.15782128, -3.38051501])"
            ]
          },
          "metadata": {},
          "execution_count": 17
        }
      ]
    },
    {
      "cell_type": "code",
      "metadata": {
        "colab": {
          "base_uri": "https://localhost:8080/"
        },
        "id": "UlJbv3oZHzh1",
        "outputId": "0cc72fcf-4e28-45b6-de7a-aa9d60c122bf"
      },
      "source": [
        "np.power(A,3)"
      ],
      "execution_count": 18,
      "outputs": [
        {
          "output_type": "execute_result",
          "data": {
            "text/plain": [
              "array([  1,   8,  27,  64, 125])"
            ]
          },
          "metadata": {},
          "execution_count": 18
        }
      ]
    },
    {
      "cell_type": "code",
      "metadata": {
        "colab": {
          "base_uri": "https://localhost:8080/"
        },
        "id": "PJFElaMCHzKd",
        "outputId": "7334871a-4f85-400e-af7c-bc5cecbbd9d7"
      },
      "source": [
        "np.sqrt(A)"
      ],
      "execution_count": 19,
      "outputs": [
        {
          "output_type": "execute_result",
          "data": {
            "text/plain": [
              "array([1.        , 1.41421356, 1.73205081, 2.        , 2.23606798])"
            ]
          },
          "metadata": {},
          "execution_count": 19
        }
      ]
    },
    {
      "cell_type": "code",
      "metadata": {
        "colab": {
          "base_uri": "https://localhost:8080/"
        },
        "id": "Ldl1m-OBJcYG",
        "outputId": "58ca92bb-f33d-4f4e-e1ed-4fd25d7eb3f5"
      },
      "source": [
        "B=np.array(['aaa','bbb','ccc','ddd'])\n",
        "B"
      ],
      "execution_count": 20,
      "outputs": [
        {
          "output_type": "execute_result",
          "data": {
            "text/plain": [
              "array(['aaa', 'bbb', 'ccc', 'ddd'], dtype='<U3')"
            ]
          },
          "metadata": {},
          "execution_count": 20
        }
      ]
    },
    {
      "cell_type": "code",
      "metadata": {
        "colab": {
          "base_uri": "https://localhost:8080/"
        },
        "id": "v5idRnDZJcQI",
        "outputId": "880f3a6a-9a1b-4c84-8e96-c07cdc7b5b0c"
      },
      "source": [
        "type(B)"
      ],
      "execution_count": 21,
      "outputs": [
        {
          "output_type": "execute_result",
          "data": {
            "text/plain": [
              "numpy.ndarray"
            ]
          },
          "metadata": {},
          "execution_count": 21
        }
      ]
    },
    {
      "cell_type": "code",
      "metadata": {
        "colab": {
          "base_uri": "https://localhost:8080/"
        },
        "id": "gDLGVVXwJcGB",
        "outputId": "182186e2-9124-4087-d776-c949a3cd7525"
      },
      "source": [
        "B.dtype  # \"U\" Stands for 'Unicode' and \"3\" stands for number of elements in a string"
      ],
      "execution_count": 22,
      "outputs": [
        {
          "output_type": "execute_result",
          "data": {
            "text/plain": [
              "dtype('<U3')"
            ]
          },
          "metadata": {},
          "execution_count": 22
        }
      ]
    },
    {
      "cell_type": "code",
      "metadata": {
        "colab": {
          "base_uri": "https://localhost:8080/"
        },
        "id": "_PBLPwHqPy4r",
        "outputId": "96a249f5-c58c-4c4a-dac8-84e4a287602c"
      },
      "source": [
        "x=np.array([1,4,7,2,5])\n",
        "y=np.array([8,3,6,9,10])\n",
        "x,y   # You can also perform Arithmetic Operations"
      ],
      "execution_count": 23,
      "outputs": [
        {
          "output_type": "execute_result",
          "data": {
            "text/plain": [
              "(array([1, 4, 7, 2, 5]), array([ 8,  3,  6,  9, 10]))"
            ]
          },
          "metadata": {},
          "execution_count": 23
        }
      ]
    },
    {
      "cell_type": "code",
      "metadata": {
        "colab": {
          "base_uri": "https://localhost:8080/"
        },
        "id": "L0wajDopPyxg",
        "outputId": "0f156c77-c02a-4933-eeab-af9a8e62b688"
      },
      "source": [
        "x+y"
      ],
      "execution_count": 24,
      "outputs": [
        {
          "output_type": "execute_result",
          "data": {
            "text/plain": [
              "array([ 9,  7, 13, 11, 15])"
            ]
          },
          "metadata": {},
          "execution_count": 24
        }
      ]
    },
    {
      "cell_type": "code",
      "metadata": {
        "colab": {
          "base_uri": "https://localhost:8080/"
        },
        "id": "qpk-LcqZPxxo",
        "outputId": "22ec28d1-7b6a-4e28-8aad-779b78552b8d"
      },
      "source": [
        "x-y"
      ],
      "execution_count": 25,
      "outputs": [
        {
          "output_type": "execute_result",
          "data": {
            "text/plain": [
              "array([-7,  1,  1, -7, -5])"
            ]
          },
          "metadata": {},
          "execution_count": 25
        }
      ]
    },
    {
      "cell_type": "code",
      "metadata": {
        "colab": {
          "base_uri": "https://localhost:8080/"
        },
        "id": "M9pAFG6UPxrF",
        "outputId": "a50fd38b-4ea1-4c4e-ae5d-1cc0d1107682"
      },
      "source": [
        "x*y"
      ],
      "execution_count": 26,
      "outputs": [
        {
          "output_type": "execute_result",
          "data": {
            "text/plain": [
              "array([ 8, 12, 42, 18, 50])"
            ]
          },
          "metadata": {},
          "execution_count": 26
        }
      ]
    },
    {
      "cell_type": "code",
      "metadata": {
        "colab": {
          "base_uri": "https://localhost:8080/"
        },
        "id": "mX2zQhSIPxj7",
        "outputId": "1cf50f76-ccf4-4f28-8833-b20162ec6e5f"
      },
      "source": [
        "x/y # Quotient"
      ],
      "execution_count": 27,
      "outputs": [
        {
          "output_type": "execute_result",
          "data": {
            "text/plain": [
              "array([0.125     , 1.33333333, 1.16666667, 0.22222222, 0.5       ])"
            ]
          },
          "metadata": {},
          "execution_count": 27
        }
      ]
    },
    {
      "cell_type": "code",
      "metadata": {
        "colab": {
          "base_uri": "https://localhost:8080/"
        },
        "id": "RU3_hR4iPxbV",
        "outputId": "5bb82e36-984c-48f9-d087-77bd7f9c215d"
      },
      "source": [
        "x//y # Perfect Division"
      ],
      "execution_count": 28,
      "outputs": [
        {
          "output_type": "execute_result",
          "data": {
            "text/plain": [
              "array([0, 1, 1, 0, 0])"
            ]
          },
          "metadata": {},
          "execution_count": 28
        }
      ]
    },
    {
      "cell_type": "code",
      "metadata": {
        "colab": {
          "base_uri": "https://localhost:8080/"
        },
        "id": "prfuu2nTQ5fL",
        "outputId": "1fed32ea-00f7-4cad-b744-f12266b3a7fb"
      },
      "source": [
        "x%y # remainder"
      ],
      "execution_count": 29,
      "outputs": [
        {
          "output_type": "execute_result",
          "data": {
            "text/plain": [
              "array([1, 1, 1, 2, 5])"
            ]
          },
          "metadata": {},
          "execution_count": 29
        }
      ]
    },
    {
      "cell_type": "code",
      "metadata": {
        "colab": {
          "base_uri": "https://localhost:8080/"
        },
        "id": "7mtlbXsiQ466",
        "outputId": "66ab3bc1-7e12-45d5-c1ed-945a996906be"
      },
      "source": [
        "x**y # Power"
      ],
      "execution_count": 30,
      "outputs": [
        {
          "output_type": "execute_result",
          "data": {
            "text/plain": [
              "array([      1,      64,  117649,     512, 9765625])"
            ]
          },
          "metadata": {},
          "execution_count": 30
        }
      ]
    },
    {
      "cell_type": "code",
      "metadata": {
        "colab": {
          "base_uri": "https://localhost:8080/"
        },
        "id": "7LHpO8IoRZ1D",
        "outputId": "10d890eb-b2d2-4840-b58f-de4a78cf84c7"
      },
      "source": [
        "np.sin(x) # Trignometry Functions"
      ],
      "execution_count": 31,
      "outputs": [
        {
          "output_type": "execute_result",
          "data": {
            "text/plain": [
              "array([ 0.84147098, -0.7568025 ,  0.6569866 ,  0.90929743, -0.95892427])"
            ]
          },
          "metadata": {},
          "execution_count": 31
        }
      ]
    },
    {
      "cell_type": "code",
      "metadata": {
        "colab": {
          "base_uri": "https://localhost:8080/"
        },
        "id": "a_bRER8uRZhW",
        "outputId": "07346317-d7fb-4258-9c97-fb88b11d4c69"
      },
      "source": [
        "np.power(x,5)"
      ],
      "execution_count": 32,
      "outputs": [
        {
          "output_type": "execute_result",
          "data": {
            "text/plain": [
              "array([    1,  1024, 16807,    32,  3125])"
            ]
          },
          "metadata": {},
          "execution_count": 32
        }
      ]
    },
    {
      "cell_type": "code",
      "metadata": {
        "colab": {
          "base_uri": "https://localhost:8080/"
        },
        "id": "jY1UoZkJRZZo",
        "outputId": "97018efb-065d-4390-9392-dafe595ee8b7"
      },
      "source": [
        "np.sqrt(x)"
      ],
      "execution_count": 33,
      "outputs": [
        {
          "output_type": "execute_result",
          "data": {
            "text/plain": [
              "array([1.        , 2.        , 2.64575131, 1.41421356, 2.23606798])"
            ]
          },
          "metadata": {},
          "execution_count": 33
        }
      ]
    },
    {
      "cell_type": "markdown",
      "metadata": {
        "id": "7r6KGKHKImOu"
      },
      "source": [
        "## Multi Dimensional Array\n",
        "\n",
        "* All the above Built-in functions are also works for Multi Dimensional Array"
      ]
    },
    {
      "cell_type": "code",
      "metadata": {
        "colab": {
          "base_uri": "https://localhost:8080/"
        },
        "id": "JF-snSXVFRPo",
        "outputId": "9ea8e7da-c29c-4e4c-fbd3-dda79e6fa4e1"
      },
      "source": [
        "C=np.array([[1,2,3,4,5],[6,7,8,9,10]])  # Multidimensional Array\n",
        "C"
      ],
      "execution_count": 34,
      "outputs": [
        {
          "output_type": "execute_result",
          "data": {
            "text/plain": [
              "array([[ 1,  2,  3,  4,  5],\n",
              "       [ 6,  7,  8,  9, 10]])"
            ]
          },
          "metadata": {},
          "execution_count": 34
        }
      ]
    },
    {
      "cell_type": "markdown",
      "metadata": {
        "id": "jKC7QBlUFiIY"
      },
      "source": [
        "### Ones"
      ]
    },
    {
      "cell_type": "code",
      "metadata": {
        "colab": {
          "base_uri": "https://localhost:8080/"
        },
        "id": "ZkFeXr-TKuip",
        "outputId": "6fea537d-771f-40b4-9313-6b9521c36212"
      },
      "source": [
        "D=np.ones(5)\n",
        "D"
      ],
      "execution_count": 35,
      "outputs": [
        {
          "output_type": "execute_result",
          "data": {
            "text/plain": [
              "array([1., 1., 1., 1., 1.])"
            ]
          },
          "metadata": {},
          "execution_count": 35
        }
      ]
    },
    {
      "cell_type": "code",
      "metadata": {
        "id": "-I5xJTqdKzkm"
      },
      "source": [
        "# By default np.ones are Float but You can change the Data type by Using dtype function"
      ],
      "execution_count": 36,
      "outputs": []
    },
    {
      "cell_type": "code",
      "metadata": {
        "colab": {
          "base_uri": "https://localhost:8080/"
        },
        "id": "yUKgRpdeLDRO",
        "outputId": "1040a6b3-94ec-4c60-fcf7-b2720a41a9f3"
      },
      "source": [
        "D=np.ones(5,dtype='int32')\n",
        "D"
      ],
      "execution_count": 37,
      "outputs": [
        {
          "output_type": "execute_result",
          "data": {
            "text/plain": [
              "array([1, 1, 1, 1, 1], dtype=int32)"
            ]
          },
          "metadata": {},
          "execution_count": 37
        }
      ]
    },
    {
      "cell_type": "code",
      "metadata": {
        "colab": {
          "base_uri": "https://localhost:8080/"
        },
        "id": "15ZniuoULVKL",
        "outputId": "7f1e4b3e-6bd7-4adb-ff39-615260a1ce3e"
      },
      "source": [
        "E=np.ones([5,5]) #matrix by using np.ones()  # It is Used as a white background (in image processing)\n",
        "E"
      ],
      "execution_count": 38,
      "outputs": [
        {
          "output_type": "execute_result",
          "data": {
            "text/plain": [
              "array([[1., 1., 1., 1., 1.],\n",
              "       [1., 1., 1., 1., 1.],\n",
              "       [1., 1., 1., 1., 1.],\n",
              "       [1., 1., 1., 1., 1.],\n",
              "       [1., 1., 1., 1., 1.]])"
            ]
          },
          "metadata": {},
          "execution_count": 38
        }
      ]
    },
    {
      "cell_type": "code",
      "metadata": {
        "id": "owBkB2n0Lh0M"
      },
      "source": [
        "# Same as above You can change data type"
      ],
      "execution_count": 39,
      "outputs": []
    },
    {
      "cell_type": "code",
      "metadata": {
        "colab": {
          "base_uri": "https://localhost:8080/"
        },
        "id": "TgvnCfSfLrGW",
        "outputId": "3fdd1637-9775-4fc4-c3ad-0b9b4b1c688b"
      },
      "source": [
        "E=np.ones([5,5],dtype='int32')\n",
        "E"
      ],
      "execution_count": 40,
      "outputs": [
        {
          "output_type": "execute_result",
          "data": {
            "text/plain": [
              "array([[1, 1, 1, 1, 1],\n",
              "       [1, 1, 1, 1, 1],\n",
              "       [1, 1, 1, 1, 1],\n",
              "       [1, 1, 1, 1, 1],\n",
              "       [1, 1, 1, 1, 1]], dtype=int32)"
            ]
          },
          "metadata": {},
          "execution_count": 40
        }
      ]
    },
    {
      "cell_type": "markdown",
      "metadata": {
        "id": "OGpaV69tLxtm"
      },
      "source": [
        "### Zeros"
      ]
    },
    {
      "cell_type": "code",
      "metadata": {
        "colab": {
          "base_uri": "https://localhost:8080/"
        },
        "id": "VjH5PMRMMMI4",
        "outputId": "9a5647b5-2db7-4048-f010-37298d1539c7"
      },
      "source": [
        "F=np.zeros(5)\n",
        "F"
      ],
      "execution_count": 41,
      "outputs": [
        {
          "output_type": "execute_result",
          "data": {
            "text/plain": [
              "array([0., 0., 0., 0., 0.])"
            ]
          },
          "metadata": {},
          "execution_count": 41
        }
      ]
    },
    {
      "cell_type": "code",
      "metadata": {
        "id": "8GICB5B5MSDE"
      },
      "source": [
        "# By default np.zeros also in float"
      ],
      "execution_count": 42,
      "outputs": []
    },
    {
      "cell_type": "code",
      "metadata": {
        "colab": {
          "base_uri": "https://localhost:8080/"
        },
        "id": "Pq8tECM4MfJd",
        "outputId": "e245d454-a74a-4363-f8e7-208efc4b96a3"
      },
      "source": [
        "F=np.zeros(5,dtype='int32')\n",
        "F"
      ],
      "execution_count": 43,
      "outputs": [
        {
          "output_type": "execute_result",
          "data": {
            "text/plain": [
              "array([0, 0, 0, 0, 0], dtype=int32)"
            ]
          },
          "metadata": {},
          "execution_count": 43
        }
      ]
    },
    {
      "cell_type": "code",
      "metadata": {
        "colab": {
          "base_uri": "https://localhost:8080/"
        },
        "id": "29wJmsZYMnZW",
        "outputId": "b201707b-f79b-4b30-f639-588ac3ecab51"
      },
      "source": [
        "G=np.zeros([5,5])  #matrix by using np.zeros()  # It is Used as a Black background (in image processing)\n",
        "G"
      ],
      "execution_count": 44,
      "outputs": [
        {
          "output_type": "execute_result",
          "data": {
            "text/plain": [
              "array([[0., 0., 0., 0., 0.],\n",
              "       [0., 0., 0., 0., 0.],\n",
              "       [0., 0., 0., 0., 0.],\n",
              "       [0., 0., 0., 0., 0.],\n",
              "       [0., 0., 0., 0., 0.]])"
            ]
          },
          "metadata": {},
          "execution_count": 44
        }
      ]
    },
    {
      "cell_type": "code",
      "metadata": {
        "id": "5_adzEj4Muk6"
      },
      "source": [
        "# Same as above You can change data type"
      ],
      "execution_count": 45,
      "outputs": []
    },
    {
      "cell_type": "code",
      "metadata": {
        "colab": {
          "base_uri": "https://localhost:8080/"
        },
        "id": "w2FTKZaVPX2T",
        "outputId": "07a6b9f7-4a2e-4d36-ea64-bdc1ffbffbe4"
      },
      "source": [
        "G=np.zeros([5,5],dtype='int32')\n",
        "G"
      ],
      "execution_count": 46,
      "outputs": [
        {
          "output_type": "execute_result",
          "data": {
            "text/plain": [
              "array([[0, 0, 0, 0, 0],\n",
              "       [0, 0, 0, 0, 0],\n",
              "       [0, 0, 0, 0, 0],\n",
              "       [0, 0, 0, 0, 0],\n",
              "       [0, 0, 0, 0, 0]], dtype=int32)"
            ]
          },
          "metadata": {},
          "execution_count": 46
        }
      ]
    },
    {
      "cell_type": "markdown",
      "metadata": {
        "id": "xVZwjC5dPgcY"
      },
      "source": [
        "* Some Other Functions With Numpy"
      ]
    },
    {
      "cell_type": "code",
      "metadata": {
        "colab": {
          "base_uri": "https://localhost:8080/"
        },
        "id": "Ul0w7PkCSNrd",
        "outputId": "01a60158-689c-4a50-b99d-4a19ef8cd146"
      },
      "source": [
        "# Range of array Values\n",
        "H=np.arange(5)\n",
        "H"
      ],
      "execution_count": 47,
      "outputs": [
        {
          "output_type": "execute_result",
          "data": {
            "text/plain": [
              "array([0, 1, 2, 3, 4])"
            ]
          },
          "metadata": {},
          "execution_count": 47
        }
      ]
    },
    {
      "cell_type": "code",
      "metadata": {
        "colab": {
          "base_uri": "https://localhost:8080/"
        },
        "id": "3yyPGgArSRnD",
        "outputId": "cd1d3828-fe01-4683-98b6-41e60e8a93df"
      },
      "source": [
        "np.arange(2,10) # 10 is exclusive"
      ],
      "execution_count": 48,
      "outputs": [
        {
          "output_type": "execute_result",
          "data": {
            "text/plain": [
              "array([2, 3, 4, 5, 6, 7, 8, 9])"
            ]
          },
          "metadata": {},
          "execution_count": 48
        }
      ]
    },
    {
      "cell_type": "code",
      "metadata": {
        "colab": {
          "base_uri": "https://localhost:8080/"
        },
        "id": "km1ZseBkSlGa",
        "outputId": "452a51c3-8e44-4f8d-deb4-1cbb42fc69ed"
      },
      "source": [
        "np.linspace(1,10,5) # Return evenly spaced numbers over a specified interval."
      ],
      "execution_count": 49,
      "outputs": [
        {
          "output_type": "execute_result",
          "data": {
            "text/plain": [
              "array([ 1.  ,  3.25,  5.5 ,  7.75, 10.  ])"
            ]
          },
          "metadata": {},
          "execution_count": 49
        }
      ]
    },
    {
      "cell_type": "code",
      "metadata": {
        "colab": {
          "base_uri": "https://localhost:8080/"
        },
        "id": "lobTZhx6S0rU",
        "outputId": "23163c60-df63-4123-c6a9-6f180cc0f577"
      },
      "source": [
        "np.linspace(1,2,15) # It divides 15 equal parts from 1 to 2"
      ],
      "execution_count": 50,
      "outputs": [
        {
          "output_type": "execute_result",
          "data": {
            "text/plain": [
              "array([1.        , 1.07142857, 1.14285714, 1.21428571, 1.28571429,\n",
              "       1.35714286, 1.42857143, 1.5       , 1.57142857, 1.64285714,\n",
              "       1.71428571, 1.78571429, 1.85714286, 1.92857143, 2.        ])"
            ]
          },
          "metadata": {},
          "execution_count": 50
        }
      ]
    },
    {
      "cell_type": "code",
      "metadata": {
        "colab": {
          "base_uri": "https://localhost:8080/"
        },
        "id": "qNrKY79bTnzM",
        "outputId": "c1f85a5d-7582-424f-ae38-45f49bfc72ea"
      },
      "source": [
        "# Numpy can create a random integers by using Random Function \n",
        "#Return random integers from `low` (inclusive) to `high` (exclusive)\n",
        "np.random.randint(1,100,20)  # Here 20 is number of random element we want from 1 to 2"
      ],
      "execution_count": 51,
      "outputs": [
        {
          "output_type": "execute_result",
          "data": {
            "text/plain": [
              "array([85, 25, 86, 82, 25, 19, 63, 48,  6,  3,  6, 81, 30, 42, 65, 53, 79,\n",
              "       50, 79, 90])"
            ]
          },
          "metadata": {},
          "execution_count": 51
        }
      ]
    }
  ]
}